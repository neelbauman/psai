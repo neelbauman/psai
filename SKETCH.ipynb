{
 "cells": [
  {
   "cell_type": "code",
   "execution_count": 2,
   "id": "a592c79b-d882-406a-bc76-73008eb9c6b7",
   "metadata": {},
   "outputs": [],
   "source": [
    "from Library import OpenCVWrapper as CV\n",
    "sample = CV.Image(\"coffeebeans.jpg\",1)\n",
    "sample = (\n",
    "    sample\n",
    "    .cvtColor(\"GRAY\")\n",
    "    .gaussianBlur()\n",
    "    .threshOTSU()\n",
    "    .bitwiseNot()\n",
    "    .fillHole()\n",
    "    .findContours()\n",
    "    .drawContours(color=(0,255,0))\n",
    "    .show()\n",
    ")"
   ]
  },
  {
   "cell_type": "code",
   "execution_count": 1,
   "id": "b337f805-6240-42e6-a6cc-a40cbefe9ca5",
   "metadata": {},
   "outputs": [
    {
     "name": "stdout",
     "output_type": "stream",
     "text": [
      "FLAGS4-6-0.json  \u001b[0m\u001b[01;34mLibrary\u001b[0m/    SKETCH.ipynb  \u001b[01;35mcoffeebeans.jpg\u001b[0m  main.py\n",
      "LICENSE          NOTE.ipynb  __init__.py   \u001b[01;34mcore\u001b[0m/\n"
     ]
    }
   ],
   "source": [
    "%ls"
   ]
  },
  {
   "cell_type": "code",
   "execution_count": null,
   "id": "01d90c62-aed5-4404-914a-0d56072e9d2c",
   "metadata": {},
   "outputs": [],
   "source": []
  }
 ],
 "metadata": {
  "kernelspec": {
   "display_name": "Python 3 (ipykernel)",
   "language": "python",
   "name": "python3"
  },
  "language_info": {
   "codemirror_mode": {
    "name": "ipython",
    "version": 3
   },
   "file_extension": ".py",
   "mimetype": "text/x-python",
   "name": "python",
   "nbconvert_exporter": "python",
   "pygments_lexer": "ipython3",
   "version": "3.10.4"
  }
 },
 "nbformat": 4,
 "nbformat_minor": 5
}
