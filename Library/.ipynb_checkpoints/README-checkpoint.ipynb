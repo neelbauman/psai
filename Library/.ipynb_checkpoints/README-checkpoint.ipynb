{
 "cells": [
  {
   "cell_type": "markdown",
   "id": "321101c2-b5cd-476a-8892-e1fd3d47c2e4",
   "metadata": {},
   "source": [
    "## OpencvWrapper\n",
    "\n",
    "### 責任\n",
    "cv2は画像処理関数を提供してくれるクラスなので、戻り値を変数に格納する必要がある。\n",
    "設計上、画像それ自身の処理は画像が行うようにしたい。\n",
    "\n",
    "そこでcv2.imread()が生成する画像オブジェクトのクラスを拡張して、自身の画像処理をメソッドとして処理できるようなクラスを作成してcv2をwrapする。"
   ]
  }
 ],
 "metadata": {
  "kernelspec": {
   "display_name": "Python 3 (ipykernel)",
   "language": "python",
   "name": "python3"
  },
  "language_info": {
   "codemirror_mode": {
    "name": "ipython",
    "version": 3
   },
   "file_extension": ".py",
   "mimetype": "text/x-python",
   "name": "python",
   "nbconvert_exporter": "python",
   "pygments_lexer": "ipython3",
   "version": "3.10.4"
  }
 },
 "nbformat": 4,
 "nbformat_minor": 5
}
