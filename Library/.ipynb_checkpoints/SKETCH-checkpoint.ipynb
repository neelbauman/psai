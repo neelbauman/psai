{
 "cells": [
  {
   "cell_type": "code",
   "execution_count": null,
   "id": "a0b09af8-a079-4f9d-89ec-f9ec1e125f51",
   "metadata": {},
   "outputs": [],
   "source": [
    "from OpenCVWrapper import CV\n",
    "img = CV.Image(\"test.png\")\n",
    "img.show()"
   ]
  },
  {
   "cell_type": "code",
   "execution_count": null,
   "id": "f46e182a-1d1e-449c-98af-ddfbf85de4ac",
   "metadata": {},
   "outputs": [],
   "source": []
  }
 ],
 "metadata": {
  "kernelspec": {
   "display_name": "Python 3 (ipykernel)",
   "language": "python",
   "name": "python3"
  },
  "language_info": {
   "codemirror_mode": {
    "name": "ipython",
    "version": 3
   },
   "file_extension": ".py",
   "mimetype": "text/x-python",
   "name": "python",
   "nbconvert_exporter": "python",
   "pygments_lexer": "ipython3",
   "version": "3.10.4"
  }
 },
 "nbformat": 4,
 "nbformat_minor": 5
}
