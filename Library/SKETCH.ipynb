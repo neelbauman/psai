{
 "cells": [
  {
   "cell_type": "code",
   "execution_count": 10,
   "id": "a0b09af8-a079-4f9d-89ec-f9ec1e125f51",
   "metadata": {},
   "outputs": [],
   "source": [
    "from OpenCVWrapper import CV\n",
    "img = CV(\"test.png\")"
   ]
  },
  {
   "cell_type": "code",
   "execution_count": 2,
   "id": "f46e182a-1d1e-449c-98af-ddfbf85de4ac",
   "metadata": {},
   "outputs": [
    {
     "data": {
      "text/plain": [
       "(1920, 1009)"
      ]
     },
     "execution_count": 2,
     "metadata": {},
     "output_type": "execute_result"
    }
   ],
   "source": [
    "img.image.shape[1::-1]"
   ]
  },
  {
   "cell_type": "code",
   "execution_count": 11,
   "id": "3198513f-bea5-4c0f-9948-2d2628ae3d5a",
   "metadata": {},
   "outputs": [
    {
     "data": {
      "text/plain": [
       "<OpenCVWrapper.CV at 0x7a8003931630>"
      ]
     },
     "execution_count": 11,
     "metadata": {},
     "output_type": "execute_result"
    }
   ],
   "source": [
    "img.translate([50,50])\n",
    "img.show()"
   ]
  },
  {
   "cell_type": "code",
   "execution_count": null,
   "id": "8ff83d82-a11d-4dcc-9a2f-864a3179f015",
   "metadata": {},
   "outputs": [],
   "source": []
  }
 ],
 "metadata": {
  "kernelspec": {
   "display_name": "Python 3 (ipykernel)",
   "language": "python",
   "name": "python3"
  },
  "language_info": {
   "codemirror_mode": {
    "name": "ipython",
    "version": 3
   },
   "file_extension": ".py",
   "mimetype": "text/x-python",
   "name": "python",
   "nbconvert_exporter": "python",
   "pygments_lexer": "ipython3",
   "version": "3.10.4"
  }
 },
 "nbformat": 4,
 "nbformat_minor": 5
}
