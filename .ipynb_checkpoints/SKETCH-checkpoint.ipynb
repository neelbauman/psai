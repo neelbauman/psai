{
 "cells": [
  {
   "cell_type": "code",
   "execution_count": 9,
   "id": "a592c79b-d882-406a-bc76-73008eb9c6b7",
   "metadata": {},
   "outputs": [],
   "source": [
    "from Library.OpenCVWrapper import Image\n",
    "image = Image(\"coffeebeans.jpg\",2)\n",
    "image = (\n",
    "    image\n",
    "    .gaussianBlur()\n",
    "    .threshTrunc(ret = 200)\n",
    "    .show()\n",
    ")"
   ]
  },
  {
   "cell_type": "code",
   "execution_count": null,
   "id": "88e8d5e6-c434-4816-8d87-d9bafbef3c8d",
   "metadata": {},
   "outputs": [],
   "source": []
  }
 ],
 "metadata": {
  "kernelspec": {
   "display_name": "Python 3 (ipykernel)",
   "language": "python",
   "name": "python3"
  },
  "language_info": {
   "codemirror_mode": {
    "name": "ipython",
    "version": 3
   },
   "file_extension": ".py",
   "mimetype": "text/x-python",
   "name": "python",
   "nbconvert_exporter": "python",
   "pygments_lexer": "ipython3",
   "version": "3.10.4"
  }
 },
 "nbformat": 4,
 "nbformat_minor": 5
}
